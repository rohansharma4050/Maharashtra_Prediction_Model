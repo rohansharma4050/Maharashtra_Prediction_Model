{
 "cells": [
  {
   "cell_type": "code",
   "execution_count": 158,
   "metadata": {},
   "outputs": [],
   "source": [
    "import pandas as pd\n",
    "import numpy as np\n",
    "import seaborn as sns\n",
    "import matplotlib.pyplot as plt\n",
    "%matplotlib inline"
   ]
  },
  {
   "cell_type": "code",
   "execution_count": 159,
   "metadata": {},
   "outputs": [],
   "source": [
    "data=pd.read_csv('C:/Users/Rohan Sharma/Desktop/mh.csv')"
   ]
  },
  {
   "cell_type": "code",
   "execution_count": 160,
   "metadata": {},
   "outputs": [
    {
     "data": {
      "text/html": [
       "<div>\n",
       "<style scoped>\n",
       "    .dataframe tbody tr th:only-of-type {\n",
       "        vertical-align: middle;\n",
       "    }\n",
       "\n",
       "    .dataframe tbody tr th {\n",
       "        vertical-align: top;\n",
       "    }\n",
       "\n",
       "    .dataframe thead th {\n",
       "        text-align: right;\n",
       "    }\n",
       "</style>\n",
       "<table border=\"1\" class=\"dataframe\">\n",
       "  <thead>\n",
       "    <tr style=\"text-align: right;\">\n",
       "      <th></th>\n",
       "      <th>Day</th>\n",
       "      <th>Positive</th>\n",
       "      <th>Deceased</th>\n",
       "      <th>Recovered</th>\n",
       "    </tr>\n",
       "  </thead>\n",
       "  <tbody>\n",
       "    <tr>\n",
       "      <td>0</td>\n",
       "      <td>1</td>\n",
       "      <td>14</td>\n",
       "      <td>0</td>\n",
       "      <td>0</td>\n",
       "    </tr>\n",
       "    <tr>\n",
       "      <td>1</td>\n",
       "      <td>2</td>\n",
       "      <td>18</td>\n",
       "      <td>0</td>\n",
       "      <td>0</td>\n",
       "    </tr>\n",
       "    <tr>\n",
       "      <td>2</td>\n",
       "      <td>3</td>\n",
       "      <td>6</td>\n",
       "      <td>0</td>\n",
       "      <td>0</td>\n",
       "    </tr>\n",
       "    <tr>\n",
       "      <td>3</td>\n",
       "      <td>4</td>\n",
       "      <td>3</td>\n",
       "      <td>1</td>\n",
       "      <td>0</td>\n",
       "    </tr>\n",
       "    <tr>\n",
       "      <td>4</td>\n",
       "      <td>5</td>\n",
       "      <td>3</td>\n",
       "      <td>0</td>\n",
       "      <td>0</td>\n",
       "    </tr>\n",
       "    <tr>\n",
       "      <td>...</td>\n",
       "      <td>...</td>\n",
       "      <td>...</td>\n",
       "      <td>...</td>\n",
       "      <td>...</td>\n",
       "    </tr>\n",
       "    <tr>\n",
       "      <td>111</td>\n",
       "      <td>112</td>\n",
       "      <td>6364</td>\n",
       "      <td>198</td>\n",
       "      <td>3515</td>\n",
       "    </tr>\n",
       "    <tr>\n",
       "      <td>112</td>\n",
       "      <td>113</td>\n",
       "      <td>7074</td>\n",
       "      <td>295</td>\n",
       "      <td>3395</td>\n",
       "    </tr>\n",
       "    <tr>\n",
       "      <td>113</td>\n",
       "      <td>114</td>\n",
       "      <td>6555</td>\n",
       "      <td>151</td>\n",
       "      <td>3658</td>\n",
       "    </tr>\n",
       "    <tr>\n",
       "      <td>114</td>\n",
       "      <td>115</td>\n",
       "      <td>5368</td>\n",
       "      <td>204</td>\n",
       "      <td>3522</td>\n",
       "    </tr>\n",
       "    <tr>\n",
       "      <td>115</td>\n",
       "      <td>116</td>\n",
       "      <td>5134</td>\n",
       "      <td>224</td>\n",
       "      <td>3296</td>\n",
       "    </tr>\n",
       "  </tbody>\n",
       "</table>\n",
       "<p>116 rows × 4 columns</p>\n",
       "</div>"
      ],
      "text/plain": [
       "     Day  Positive  Deceased  Recovered\n",
       "0      1        14         0          0\n",
       "1      2        18         0          0\n",
       "2      3         6         0          0\n",
       "3      4         3         1          0\n",
       "4      5         3         0          0\n",
       "..   ...       ...       ...        ...\n",
       "111  112      6364       198       3515\n",
       "112  113      7074       295       3395\n",
       "113  114      6555       151       3658\n",
       "114  115      5368       204       3522\n",
       "115  116      5134       224       3296\n",
       "\n",
       "[116 rows x 4 columns]"
      ]
     },
     "execution_count": 160,
     "metadata": {},
     "output_type": "execute_result"
    }
   ],
   "source": [
    "data"
   ]
  },
  {
   "cell_type": "markdown",
   "metadata": {},
   "source": [
    "### Data Preprocessing"
   ]
  },
  {
   "cell_type": "code",
   "execution_count": 161,
   "metadata": {},
   "outputs": [
    {
     "data": {
      "text/html": [
       "<div>\n",
       "<style scoped>\n",
       "    .dataframe tbody tr th:only-of-type {\n",
       "        vertical-align: middle;\n",
       "    }\n",
       "\n",
       "    .dataframe tbody tr th {\n",
       "        vertical-align: top;\n",
       "    }\n",
       "\n",
       "    .dataframe thead th {\n",
       "        text-align: right;\n",
       "    }\n",
       "</style>\n",
       "<table border=\"1\" class=\"dataframe\">\n",
       "  <thead>\n",
       "    <tr style=\"text-align: right;\">\n",
       "      <th></th>\n",
       "      <th>Day</th>\n",
       "      <th>Positive</th>\n",
       "      <th>Deceased</th>\n",
       "      <th>Recovered</th>\n",
       "    </tr>\n",
       "  </thead>\n",
       "  <tbody>\n",
       "    <tr>\n",
       "      <td>count</td>\n",
       "      <td>116.000000</td>\n",
       "      <td>116.000000</td>\n",
       "      <td>116.000000</td>\n",
       "      <td>116.000000</td>\n",
       "    </tr>\n",
       "    <tr>\n",
       "      <td>mean</td>\n",
       "      <td>58.500000</td>\n",
       "      <td>1871.732759</td>\n",
       "      <td>79.732759</td>\n",
       "      <td>1022.051724</td>\n",
       "    </tr>\n",
       "    <tr>\n",
       "      <td>std</td>\n",
       "      <td>33.630343</td>\n",
       "      <td>1845.517825</td>\n",
       "      <td>142.265420</td>\n",
       "      <td>1477.966616</td>\n",
       "    </tr>\n",
       "    <tr>\n",
       "      <td>min</td>\n",
       "      <td>1.000000</td>\n",
       "      <td>3.000000</td>\n",
       "      <td>0.000000</td>\n",
       "      <td>0.000000</td>\n",
       "    </tr>\n",
       "    <tr>\n",
       "      <td>25%</td>\n",
       "      <td>29.750000</td>\n",
       "      <td>218.250000</td>\n",
       "      <td>10.750000</td>\n",
       "      <td>19.500000</td>\n",
       "    </tr>\n",
       "    <tr>\n",
       "      <td>50%</td>\n",
       "      <td>58.500000</td>\n",
       "      <td>1364.000000</td>\n",
       "      <td>46.000000</td>\n",
       "      <td>376.500000</td>\n",
       "    </tr>\n",
       "    <tr>\n",
       "      <td>75%</td>\n",
       "      <td>87.250000</td>\n",
       "      <td>2940.000000</td>\n",
       "      <td>114.500000</td>\n",
       "      <td>1569.250000</td>\n",
       "    </tr>\n",
       "    <tr>\n",
       "      <td>max</td>\n",
       "      <td>116.000000</td>\n",
       "      <td>7074.000000</td>\n",
       "      <td>1409.000000</td>\n",
       "      <td>8381.000000</td>\n",
       "    </tr>\n",
       "  </tbody>\n",
       "</table>\n",
       "</div>"
      ],
      "text/plain": [
       "              Day     Positive     Deceased    Recovered\n",
       "count  116.000000   116.000000   116.000000   116.000000\n",
       "mean    58.500000  1871.732759    79.732759  1022.051724\n",
       "std     33.630343  1845.517825   142.265420  1477.966616\n",
       "min      1.000000     3.000000     0.000000     0.000000\n",
       "25%     29.750000   218.250000    10.750000    19.500000\n",
       "50%     58.500000  1364.000000    46.000000   376.500000\n",
       "75%     87.250000  2940.000000   114.500000  1569.250000\n",
       "max    116.000000  7074.000000  1409.000000  8381.000000"
      ]
     },
     "execution_count": 161,
     "metadata": {},
     "output_type": "execute_result"
    }
   ],
   "source": [
    "data.describe()"
   ]
  },
  {
   "cell_type": "code",
   "execution_count": 162,
   "metadata": {},
   "outputs": [
    {
     "name": "stdout",
     "output_type": "stream",
     "text": [
      "<class 'pandas.core.frame.DataFrame'>\n",
      "RangeIndex: 116 entries, 0 to 115\n",
      "Data columns (total 4 columns):\n",
      "Day          116 non-null int64\n",
      "Positive     116 non-null int64\n",
      "Deceased     116 non-null int64\n",
      "Recovered    116 non-null int64\n",
      "dtypes: int64(4)\n",
      "memory usage: 3.8 KB\n"
     ]
    }
   ],
   "source": [
    "data.info()"
   ]
  },
  {
   "cell_type": "code",
   "execution_count": 154,
   "metadata": {},
   "outputs": [
    {
     "data": {
      "text/plain": [
       "False"
      ]
     },
     "execution_count": 154,
     "metadata": {},
     "output_type": "execute_result"
    }
   ],
   "source": [
    "data.isnull().values.any()"
   ]
  },
  {
   "cell_type": "code",
   "execution_count": 155,
   "metadata": {},
   "outputs": [
    {
     "data": {
      "text/html": [
       "<div>\n",
       "<style scoped>\n",
       "    .dataframe tbody tr th:only-of-type {\n",
       "        vertical-align: middle;\n",
       "    }\n",
       "\n",
       "    .dataframe tbody tr th {\n",
       "        vertical-align: top;\n",
       "    }\n",
       "\n",
       "    .dataframe thead th {\n",
       "        text-align: right;\n",
       "    }\n",
       "</style>\n",
       "<table border=\"1\" class=\"dataframe\">\n",
       "  <thead>\n",
       "    <tr style=\"text-align: right;\">\n",
       "      <th></th>\n",
       "      <th>Day</th>\n",
       "      <th>Positive</th>\n",
       "      <th>Deceased</th>\n",
       "      <th>Recovered</th>\n",
       "    </tr>\n",
       "  </thead>\n",
       "  <tbody>\n",
       "    <tr>\n",
       "      <td>0</td>\n",
       "      <td>-1.709765</td>\n",
       "      <td>-1.006619</td>\n",
       "      <td>-0.560451</td>\n",
       "      <td>-0.691526</td>\n",
       "    </tr>\n",
       "    <tr>\n",
       "      <td>1</td>\n",
       "      <td>-1.680030</td>\n",
       "      <td>-1.004451</td>\n",
       "      <td>-0.560451</td>\n",
       "      <td>-0.691526</td>\n",
       "    </tr>\n",
       "    <tr>\n",
       "      <td>2</td>\n",
       "      <td>-1.650295</td>\n",
       "      <td>-1.010954</td>\n",
       "      <td>-0.560451</td>\n",
       "      <td>-0.691526</td>\n",
       "    </tr>\n",
       "    <tr>\n",
       "      <td>3</td>\n",
       "      <td>-1.620560</td>\n",
       "      <td>-1.012579</td>\n",
       "      <td>-0.553422</td>\n",
       "      <td>-0.691526</td>\n",
       "    </tr>\n",
       "    <tr>\n",
       "      <td>4</td>\n",
       "      <td>-1.590825</td>\n",
       "      <td>-1.012579</td>\n",
       "      <td>-0.560451</td>\n",
       "      <td>-0.691526</td>\n",
       "    </tr>\n",
       "    <tr>\n",
       "      <td>...</td>\n",
       "      <td>...</td>\n",
       "      <td>...</td>\n",
       "      <td>...</td>\n",
       "      <td>...</td>\n",
       "    </tr>\n",
       "    <tr>\n",
       "      <td>111</td>\n",
       "      <td>1.590825</td>\n",
       "      <td>2.434150</td>\n",
       "      <td>0.831314</td>\n",
       "      <td>1.686742</td>\n",
       "    </tr>\n",
       "    <tr>\n",
       "      <td>112</td>\n",
       "      <td>1.620560</td>\n",
       "      <td>2.818866</td>\n",
       "      <td>1.513138</td>\n",
       "      <td>1.605549</td>\n",
       "    </tr>\n",
       "    <tr>\n",
       "      <td>113</td>\n",
       "      <td>1.650295</td>\n",
       "      <td>2.537644</td>\n",
       "      <td>0.500946</td>\n",
       "      <td>1.783496</td>\n",
       "    </tr>\n",
       "    <tr>\n",
       "      <td>114</td>\n",
       "      <td>1.680030</td>\n",
       "      <td>1.894464</td>\n",
       "      <td>0.873489</td>\n",
       "      <td>1.691478</td>\n",
       "    </tr>\n",
       "    <tr>\n",
       "      <td>115</td>\n",
       "      <td>1.709765</td>\n",
       "      <td>1.767670</td>\n",
       "      <td>1.014071</td>\n",
       "      <td>1.538565</td>\n",
       "    </tr>\n",
       "  </tbody>\n",
       "</table>\n",
       "<p>116 rows × 4 columns</p>\n",
       "</div>"
      ],
      "text/plain": [
       "          Day  Positive  Deceased  Recovered\n",
       "0   -1.709765 -1.006619 -0.560451  -0.691526\n",
       "1   -1.680030 -1.004451 -0.560451  -0.691526\n",
       "2   -1.650295 -1.010954 -0.560451  -0.691526\n",
       "3   -1.620560 -1.012579 -0.553422  -0.691526\n",
       "4   -1.590825 -1.012579 -0.560451  -0.691526\n",
       "..        ...       ...       ...        ...\n",
       "111  1.590825  2.434150  0.831314   1.686742\n",
       "112  1.620560  2.818866  1.513138   1.605549\n",
       "113  1.650295  2.537644  0.500946   1.783496\n",
       "114  1.680030  1.894464  0.873489   1.691478\n",
       "115  1.709765  1.767670  1.014071   1.538565\n",
       "\n",
       "[116 rows x 4 columns]"
      ]
     },
     "execution_count": 155,
     "metadata": {},
     "output_type": "execute_result"
    }
   ],
   "source": [
    "mhdata = data.iloc[:,1:]\n",
    "mhdata_norm = (data - data.mean()) / data.std()\n",
    "mhdata_norm"
   ]
  },
  {
   "cell_type": "code",
   "execution_count": 156,
   "metadata": {},
   "outputs": [
    {
     "data": {
      "image/png": "[encoded data removed]",
      "text/plain": [
       "<Figure size 288x144 with 1 Axes>"
      ]
     },
     "metadata": {},
     "output_type": "display_data"
    },
    {
     "data": {
      "image/png": "[encoded data removed]",
      "text/plain": [
       "<Figure size 288x144 with 1 Axes>"
      ]
     },
     "metadata": {},
     "output_type": "display_data"
    },
    {
     "data": {
      "image/png": "[encoded data removed]",
      "text/plain": [
       "<Figure size 288x144 with 1 Axes>"
      ]
     },
     "metadata": {},
     "output_type": "display_data"
    }
   ],
   "source": [
    "sns.set(style=\"whitegrid\")\n",
    "\n",
    "sns.set(rc={'figure.figsize':(4,2)})\n",
    "sns.boxplot(x=data['Positive'])\n",
    "plt.show()\n",
    "sns.boxplot(x=data['Recovered'])\n",
    "plt.show()\n",
    "sns.boxplot(x=data['Deceased'])\n",
    "plt.show()"
   ]
  },
  {
   "cell_type": "code",
   "execution_count": 157,
   "metadata": {},
   "outputs": [
    {
     "name": "stdout",
     "output_type": "stream",
     "text": [
      "Q1\n",
      " Day           29.75\n",
      "Positive     218.25\n",
      "Deceased      10.75\n",
      "Recovered     19.50\n",
      "Name: 0.25, dtype: float64\n",
      "Q3\n",
      " Day            87.25\n",
      "Positive     2940.00\n",
      "Deceased      114.50\n",
      "Recovered    1569.25\n",
      "Name: 0.75, dtype: float64\n",
      "IQR\n",
      " Day            57.50\n",
      "Positive     2721.75\n",
      "Deceased      103.75\n",
      "Recovered    1549.75\n",
      "dtype: float64\n"
     ]
    }
   ],
   "source": [
    "Q1=data.quantile(0.25)\n",
    "Q3=data.quantile(0.75)\n",
    "IQR=Q3-Q1\n",
    "\n",
    "print(\"Q1\\n\",Q1)\n",
    "print(\"Q3\\n\",Q3)\n",
    "print(\"IQR\\n\",IQR)"
   ]
  },
  {
   "cell_type": "markdown",
   "metadata": {},
   "source": [
    "### Data Visualization"
   ]
  },
  {
   "cell_type": "code",
   "execution_count": 133,
   "metadata": {},
   "outputs": [
    {
     "data": {
      "text/plain": [
       "<matplotlib.collections.PathCollection at 0x1af70ed2d48>"
      ]
     },
     "execution_count": 133,
     "metadata": {},
     "output_type": "execute_result"
    },
    {
     "data": {
      "image/png": "[encoded data removed]",
      "text/plain": [
       "<Figure size 288x144 with 1 Axes>"
      ]
     },
     "metadata": {},
     "output_type": "display_data"
    }
   ],
   "source": [
    "import matplotlib.pyplot as plt\n",
    "#date vs positive cases\n",
    "plt.scatter(data['Day'],data['Positive'])"
   ]
  },
  {
   "cell_type": "code",
   "execution_count": 134,
   "metadata": {},
   "outputs": [
    {
     "data": {
      "text/plain": [
       "<matplotlib.collections.PathCollection at 0x1af6fd296c8>"
      ]
     },
     "execution_count": 134,
     "metadata": {},
     "output_type": "execute_result"
    },
    {
     "data": {
      "image/png": "[encoded data removed]",
      "text/plain": [
       "<Figure size 288x144 with 1 Axes>"
      ]
     },
     "metadata": {},
     "output_type": "display_data"
    }
   ],
   "source": [
    "\n",
    "import matplotlib.pyplot as plt\n",
    "#date vs recovered cases\n",
    "plt.scatter(data['Day'],data['Recovered'])"
   ]
  },
  {
   "cell_type": "code",
   "execution_count": 135,
   "metadata": {},
   "outputs": [
    {
     "data": {
      "text/plain": [
       "<matplotlib.collections.PathCollection at 0x1af70fe0188>"
      ]
     },
     "execution_count": 135,
     "metadata": {},
     "output_type": "execute_result"
    },
    {
     "data": {
      "image/png": "[encoded data removed]",
      "text/plain": [
       "<Figure size 288x144 with 1 Axes>"
      ]
     },
     "metadata": {},
     "output_type": "display_data"
    }
   ],
   "source": [
    "import matplotlib.pyplot as plt\n",
    "#date vs deceased cases\n",
    "plt.scatter(data['Day'],data['Deceased'])"
   ]
  },
  {
   "cell_type": "code",
   "execution_count": 136,
   "metadata": {},
   "outputs": [],
   "source": [
    "x=data_out.drop(columns=['Positive'])\n",
    "y=data_out['Positive']"
   ]
  },
  {
   "cell_type": "code",
   "execution_count": 137,
   "metadata": {},
   "outputs": [],
   "source": [
    "x = data['Day'].values.reshape(-1,1)\n",
    "y = data[['Positive']].values.reshape(-1,1)"
   ]
  },
  {
   "cell_type": "code",
   "execution_count": 138,
   "metadata": {},
   "outputs": [
    {
     "data": {
      "text/plain": [
       "array([[  1],\n",
       "       [  2],\n",
       "       [  3],\n",
       "       [  4],\n",
       "       [  5],\n",
       "       [  6],\n",
       "       [  7],\n",
       "       [  8],\n",
       "       [  9],\n",
       "       [ 10],\n",
       "       [ 11],\n",
       "       [ 12],\n",
       "       [ 13],\n",
       "       [ 14],\n",
       "       [ 15],\n",
       "       [ 16],\n",
       "       [ 17],\n",
       "       [ 18],\n",
       "       [ 19],\n",
       "       [ 20],\n",
       "       [ 21],\n",
       "       [ 22],\n",
       "       [ 23],\n",
       "       [ 24],\n",
       "       [ 25],\n",
       "       [ 26],\n",
       "       [ 27],\n",
       "       [ 28],\n",
       "       [ 29],\n",
       "       [ 30],\n",
       "       [ 31],\n",
       "       [ 32],\n",
       "       [ 33],\n",
       "       [ 34],\n",
       "       [ 35],\n",
       "       [ 36],\n",
       "       [ 37],\n",
       "       [ 38],\n",
       "       [ 39],\n",
       "       [ 40],\n",
       "       [ 41],\n",
       "       [ 42],\n",
       "       [ 43],\n",
       "       [ 44],\n",
       "       [ 45],\n",
       "       [ 46],\n",
       "       [ 47],\n",
       "       [ 48],\n",
       "       [ 49],\n",
       "       [ 50],\n",
       "       [ 51],\n",
       "       [ 52],\n",
       "       [ 53],\n",
       "       [ 54],\n",
       "       [ 55],\n",
       "       [ 56],\n",
       "       [ 57],\n",
       "       [ 58],\n",
       "       [ 59],\n",
       "       [ 60],\n",
       "       [ 61],\n",
       "       [ 62],\n",
       "       [ 63],\n",
       "       [ 64],\n",
       "       [ 65],\n",
       "       [ 66],\n",
       "       [ 67],\n",
       "       [ 68],\n",
       "       [ 69],\n",
       "       [ 70],\n",
       "       [ 71],\n",
       "       [ 72],\n",
       "       [ 73],\n",
       "       [ 74],\n",
       "       [ 75],\n",
       "       [ 76],\n",
       "       [ 77],\n",
       "       [ 78],\n",
       "       [ 79],\n",
       "       [ 80],\n",
       "       [ 81],\n",
       "       [ 82],\n",
       "       [ 83],\n",
       "       [ 84],\n",
       "       [ 85],\n",
       "       [ 86],\n",
       "       [ 87],\n",
       "       [ 88],\n",
       "       [ 89],\n",
       "       [ 90],\n",
       "       [ 91],\n",
       "       [ 92],\n",
       "       [ 93],\n",
       "       [ 94],\n",
       "       [ 95],\n",
       "       [ 96],\n",
       "       [ 97],\n",
       "       [ 98],\n",
       "       [ 99],\n",
       "       [100],\n",
       "       [101],\n",
       "       [102],\n",
       "       [103],\n",
       "       [104],\n",
       "       [105],\n",
       "       [106],\n",
       "       [107],\n",
       "       [108],\n",
       "       [109],\n",
       "       [110],\n",
       "       [111],\n",
       "       [112],\n",
       "       [113],\n",
       "       [114],\n",
       "       [115],\n",
       "       [116]], dtype=int64)"
      ]
     },
     "execution_count": 138,
     "metadata": {},
     "output_type": "execute_result"
    }
   ],
   "source": [
    "x"
   ]
  },
  {
   "cell_type": "code",
   "execution_count": 139,
   "metadata": {},
   "outputs": [
    {
     "data": {
      "text/plain": [
       "array([[  14],\n",
       "       [  18],\n",
       "       [   6],\n",
       "       [   3],\n",
       "       [   3],\n",
       "       [   4],\n",
       "       [   4],\n",
       "       [  12],\n",
       "       [  10],\n",
       "       [  23],\n",
       "       [  10],\n",
       "       [  15],\n",
       "       [   3],\n",
       "       [  31],\n",
       "       [  30],\n",
       "       [  17],\n",
       "       [  17],\n",
       "       [  82],\n",
       "       [  33],\n",
       "       [  88],\n",
       "       [  64],\n",
       "       [ 148],\n",
       "       [ 112],\n",
       "       [ 121],\n",
       "       [ 150],\n",
       "       [ 117],\n",
       "       [ 229],\n",
       "       [ 210],\n",
       "       [ 187],\n",
       "       [ 221],\n",
       "       [ 352],\n",
       "       [ 346],\n",
       "       [ 236],\n",
       "       [ 285],\n",
       "       [ 120],\n",
       "       [ 327],\n",
       "       [ 552],\n",
       "       [ 466],\n",
       "       [ 552],\n",
       "       [ 431],\n",
       "       [ 778],\n",
       "       [ 390],\n",
       "       [ 811],\n",
       "       [ 440],\n",
       "       [ 522],\n",
       "       [ 728],\n",
       "       [ 597],\n",
       "       [ 583],\n",
       "       [1008],\n",
       "       [ 790],\n",
       "       [ 678],\n",
       "       [1567],\n",
       "       [ 984],\n",
       "       [1233],\n",
       "       [1216],\n",
       "       [1089],\n",
       "       [1165],\n",
       "       [1943],\n",
       "       [1230],\n",
       "       [1026],\n",
       "       [1495],\n",
       "       [1602],\n",
       "       [1576],\n",
       "       [1606],\n",
       "       [2347],\n",
       "       [2005],\n",
       "       [2078],\n",
       "       [2161],\n",
       "       [2345],\n",
       "       [2940],\n",
       "       [2608],\n",
       "       [3041],\n",
       "       [2436],\n",
       "       [2091],\n",
       "       [2190],\n",
       "       [2598],\n",
       "       [2682],\n",
       "       [2940],\n",
       "       [2487],\n",
       "       [2358],\n",
       "       [2287],\n",
       "       [2560],\n",
       "       [2933],\n",
       "       [2436],\n",
       "       [2739],\n",
       "       [3007],\n",
       "       [2554],\n",
       "       [2258],\n",
       "       [3254],\n",
       "       [3607],\n",
       "       [3493],\n",
       "       [3427],\n",
       "       [3390],\n",
       "       [2786],\n",
       "       [2701],\n",
       "       [3307],\n",
       "       [3752],\n",
       "       [3827],\n",
       "       [3874],\n",
       "       [3870],\n",
       "       [3721],\n",
       "       [3214],\n",
       "       [3889],\n",
       "       [4842],\n",
       "       [5024],\n",
       "       [6368],\n",
       "       [5493],\n",
       "       [5257],\n",
       "       [4878],\n",
       "       [5537],\n",
       "       [6328],\n",
       "       [6364],\n",
       "       [7074],\n",
       "       [6555],\n",
       "       [5368],\n",
       "       [5134]], dtype=int64)"
      ]
     },
     "execution_count": 139,
     "metadata": {},
     "output_type": "execute_result"
    }
   ],
   "source": [
    "y"
   ]
  },
  {
   "cell_type": "markdown",
   "metadata": {},
   "source": [
    "### Training and Testing"
   ]
  },
  {
   "cell_type": "code",
   "execution_count": 140,
   "metadata": {},
   "outputs": [],
   "source": [
    "from sklearn.model_selection import train_test_split\n",
    "train_x,test_x,train_y,test_y=train_test_split(x,y,test_size=0.3)"
   ]
  },
  {
   "cell_type": "code",
   "execution_count": 141,
   "metadata": {},
   "outputs": [
    {
     "data": {
      "text/plain": [
       "((81, 1), (35, 1), (81, 1), (35, 1))"
      ]
     },
     "execution_count": 141,
     "metadata": {},
     "output_type": "execute_result"
    }
   ],
   "source": [
    "train_x.shape,test_x.shape,train_y.shape,test_y.shape"
   ]
  },
  {
   "cell_type": "code",
   "execution_count": 142,
   "metadata": {},
   "outputs": [],
   "source": [
    "from sklearn.linear_model import LinearRegression\n",
    "c=LinearRegression()"
   ]
  },
  {
   "cell_type": "code",
   "execution_count": 143,
   "metadata": {},
   "outputs": [
    {
     "data": {
      "text/plain": [
       "LinearRegression(copy_X=True, fit_intercept=True, n_jobs=None, normalize=False)"
      ]
     },
     "execution_count": 143,
     "metadata": {},
     "output_type": "execute_result"
    }
   ],
   "source": [
    "c.fit(train_x,train_y)"
   ]
  },
  {
   "cell_type": "code",
   "execution_count": 144,
   "metadata": {},
   "outputs": [
    {
     "data": {
      "text/plain": [
       "array([[-9.26077070e+02],\n",
       "       [ 2.94659044e+03],\n",
       "       [ 4.75383527e+03],\n",
       "       [ 3.10149714e+03],\n",
       "       [-4.82724347e+01],\n",
       "       [ 1.55243013e+03],\n",
       "       [ 1.91387910e+03],\n",
       "       [ 1.44915900e+03],\n",
       "       [-6.67899236e+02],\n",
       "       [ 2.37859920e+03],\n",
       "       [ 3.15313270e+03],\n",
       "       [ 1.34588787e+03],\n",
       "       [ 1.29425230e+03],\n",
       "       [ 2.74004817e+03],\n",
       "       [ 4.23747961e+03],\n",
       "       [ 3.41131054e+03],\n",
       "       [ 1.75897240e+03],\n",
       "       [ 1.70733683e+03],\n",
       "       [ 4.65056414e+03],\n",
       "       [-7.19534803e+02],\n",
       "       [ 2.43023477e+03],\n",
       "       [-9.99080015e+01],\n",
       "       [-6.16263669e+02],\n",
       "       [-4.61356969e+02],\n",
       "       [ 1.03607447e+03],\n",
       "       [ 3.82439507e+03],\n",
       "       [ 2.68841260e+03],\n",
       "       [ 2.01715024e+03],\n",
       "       [-5.12992535e+02],\n",
       "       [ 3.61785280e+03],\n",
       "       [ 3.36313203e+00],\n",
       "       [ 2.61540966e+02],\n",
       "       [ 1.58269832e+02],\n",
       "       [ 4.68083233e+02],\n",
       "       [ 1.60406570e+03]])"
      ]
     },
     "execution_count": 144,
     "metadata": {},
     "output_type": "execute_result"
    }
   ],
   "source": [
    "c.predict(test_x)"
   ]
  },
  {
   "cell_type": "code",
   "execution_count": 145,
   "metadata": {},
   "outputs": [
    {
     "data": {
      "text/plain": [
       "0.842675152227366"
      ]
     },
     "execution_count": 145,
     "metadata": {},
     "output_type": "execute_result"
    }
   ],
   "source": [
    "c.score(test_x,test_y)"
   ]
  },
  {
   "cell_type": "markdown",
   "metadata": {},
   "source": [
    "### Results of Linear Regression"
   ]
  },
  {
   "cell_type": "code",
   "execution_count": 146,
   "metadata": {},
   "outputs": [
    {
     "name": "stdout",
     "output_type": "stream",
     "text": [
      "                            OLS Regression Results                            \n",
      "==============================================================================\n",
      "Dep. Variable:               Positive   R-squared:                       0.869\n",
      "Model:                            OLS   Adj. R-squared:                  0.868\n",
      "Method:                 Least Squares   F-statistic:                     756.5\n",
      "Date:                Tue, 29 Sep 2020   Prob (F-statistic):           3.79e-52\n",
      "Time:                        14:44:52   Log-Likelihood:                -918.57\n",
      "No. Observations:                 116   AIC:                             1841.\n",
      "Df Residuals:                     114   BIC:                             1847.\n",
      "Df Model:                           1                                         \n",
      "Covariance Type:            nonrobust                                         \n",
      "==============================================================================\n",
      "                 coef    std err          t      P>|t|      [0.025      0.975]\n",
      "------------------------------------------------------------------------------\n",
      "const      -1120.9676    125.371     -8.941      0.000   -1369.326    -872.610\n",
      "Day           51.1573      1.860     27.505      0.000      47.473      54.842\n",
      "==============================================================================\n",
      "Omnibus:                       26.829   Durbin-Watson:                   0.323\n",
      "Prob(Omnibus):                  0.000   Jarque-Bera (JB):               37.880\n",
      "Skew:                           1.168   Prob(JB):                     5.95e-09\n",
      "Kurtosis:                       4.543   Cond. No.                         136.\n",
      "==============================================================================\n",
      "\n",
      "Warnings:\n",
      "[1] Standard Errors assume that the covariance matrix of the errors is correctly specified.\n"
     ]
    },
    {
     "name": "stderr",
     "output_type": "stream",
     "text": [
      "C:\\Users\\Rohan Sharma\\Anaconda3\\lib\\site-packages\\numpy\\core\\fromnumeric.py:2389: FutureWarning: Method .ptp is deprecated and will be removed in a future version. Use numpy.ptp instead.\n",
      "  return ptp(axis=axis, out=out, **kwargs)\n"
     ]
    }
   ],
   "source": [
    "import statsmodels.api as s\n",
    "test=data['Day']\n",
    "case=data['Positive']\n",
    "test1=s.add_constant(test)\n",
    "model=s.OLS(case,test1)\n",
    "result=model.fit()\n",
    "print(result.summary())"
   ]
  },
  {
   "cell_type": "code",
   "execution_count": 147,
   "metadata": {},
   "outputs": [
    {
     "data": {
      "text/plain": [
       "LinearRegression(copy_X=True, fit_intercept=True, n_jobs=None, normalize=False)"
      ]
     },
     "execution_count": 147,
     "metadata": {},
     "output_type": "execute_result"
    }
   ],
   "source": [
    "reg=LinearRegression()\n",
    "reg.fit(x,y)"
   ]
  },
  {
   "cell_type": "code",
   "execution_count": 148,
   "metadata": {},
   "outputs": [
    {
     "data": {
      "text/plain": [
       "(array([-1120.96761619]), array([[51.15727136]]))"
      ]
     },
     "execution_count": 148,
     "metadata": {},
     "output_type": "execute_result"
    }
   ],
   "source": [
    "reg.intercept_,reg.coef_"
   ]
  },
  {
   "cell_type": "code",
   "execution_count": 122,
   "metadata": {},
   "outputs": [],
   "source": [
    "x=data_out.drop(columns=['Recovered'])\n",
    "y=data_out['Recovered']"
   ]
  },
  {
   "cell_type": "code",
   "execution_count": 52,
   "metadata": {},
   "outputs": [],
   "source": [
    "x = data['Day'].values.reshape(-1,1)\n",
    "y = data[['Recovered']].values.reshape(-1,1)"
   ]
  },
  {
   "cell_type": "code",
   "execution_count": 53,
   "metadata": {},
   "outputs": [
    {
     "data": {
      "text/plain": [
       "array([[  1],\n",
       "       [  2],\n",
       "       [  3],\n",
       "       [  4],\n",
       "       [  5],\n",
       "       [  6],\n",
       "       [  7],\n",
       "       [  8],\n",
       "       [  9],\n",
       "       [ 10],\n",
       "       [ 11],\n",
       "       [ 12],\n",
       "       [ 13],\n",
       "       [ 14],\n",
       "       [ 15],\n",
       "       [ 16],\n",
       "       [ 17],\n",
       "       [ 18],\n",
       "       [ 19],\n",
       "       [ 20],\n",
       "       [ 21],\n",
       "       [ 22],\n",
       "       [ 23],\n",
       "       [ 24],\n",
       "       [ 25],\n",
       "       [ 26],\n",
       "       [ 27],\n",
       "       [ 28],\n",
       "       [ 29],\n",
       "       [ 30],\n",
       "       [ 31],\n",
       "       [ 32],\n",
       "       [ 33],\n",
       "       [ 34],\n",
       "       [ 35],\n",
       "       [ 36],\n",
       "       [ 37],\n",
       "       [ 38],\n",
       "       [ 39],\n",
       "       [ 40],\n",
       "       [ 41],\n",
       "       [ 42],\n",
       "       [ 43],\n",
       "       [ 44],\n",
       "       [ 45],\n",
       "       [ 46],\n",
       "       [ 47],\n",
       "       [ 48],\n",
       "       [ 49],\n",
       "       [ 50],\n",
       "       [ 51],\n",
       "       [ 52],\n",
       "       [ 53],\n",
       "       [ 54],\n",
       "       [ 55],\n",
       "       [ 56],\n",
       "       [ 57],\n",
       "       [ 58],\n",
       "       [ 59],\n",
       "       [ 60],\n",
       "       [ 61],\n",
       "       [ 62],\n",
       "       [ 63],\n",
       "       [ 64],\n",
       "       [ 65],\n",
       "       [ 66],\n",
       "       [ 67],\n",
       "       [ 68],\n",
       "       [ 69],\n",
       "       [ 70],\n",
       "       [ 71],\n",
       "       [ 72],\n",
       "       [ 73],\n",
       "       [ 74],\n",
       "       [ 75],\n",
       "       [ 76],\n",
       "       [ 77],\n",
       "       [ 78],\n",
       "       [ 79],\n",
       "       [ 80],\n",
       "       [ 81],\n",
       "       [ 82],\n",
       "       [ 83],\n",
       "       [ 84],\n",
       "       [ 85],\n",
       "       [ 86],\n",
       "       [ 87],\n",
       "       [ 88],\n",
       "       [ 89],\n",
       "       [ 90],\n",
       "       [ 91],\n",
       "       [ 92],\n",
       "       [ 93],\n",
       "       [ 94],\n",
       "       [ 95],\n",
       "       [ 96],\n",
       "       [ 97],\n",
       "       [ 98],\n",
       "       [ 99],\n",
       "       [100],\n",
       "       [101],\n",
       "       [102],\n",
       "       [103],\n",
       "       [104],\n",
       "       [105],\n",
       "       [106],\n",
       "       [107],\n",
       "       [108],\n",
       "       [109],\n",
       "       [110],\n",
       "       [111],\n",
       "       [112],\n",
       "       [113],\n",
       "       [114],\n",
       "       [115],\n",
       "       [116]], dtype=int64)"
      ]
     },
     "execution_count": 53,
     "metadata": {},
     "output_type": "execute_result"
    }
   ],
   "source": [
    "x"
   ]
  },
  {
   "cell_type": "code",
   "execution_count": 54,
   "metadata": {},
   "outputs": [
    {
     "data": {
      "text/plain": [
       "array([[   0],\n",
       "       [   0],\n",
       "       [   0],\n",
       "       [   0],\n",
       "       [   0],\n",
       "       [   0],\n",
       "       [   0],\n",
       "       [   0],\n",
       "       [   0],\n",
       "       [   0],\n",
       "       [   0],\n",
       "       [   1],\n",
       "       [   0],\n",
       "       [  18],\n",
       "       [   6],\n",
       "       [   0],\n",
       "       [  14],\n",
       "       [   0],\n",
       "       [   0],\n",
       "       [   3],\n",
       "       [   8],\n",
       "       [   2],\n",
       "       [   4],\n",
       "       [  14],\n",
       "       [   9],\n",
       "       [  38],\n",
       "       [   8],\n",
       "       [  63],\n",
       "       [  20],\n",
       "       [   9],\n",
       "       [  12],\n",
       "       [  30],\n",
       "       [  36],\n",
       "       [   5],\n",
       "       [  31],\n",
       "       [  34],\n",
       "       [ 142],\n",
       "       [  65],\n",
       "       [ 150],\n",
       "       [  67],\n",
       "       [  51],\n",
       "       [ 117],\n",
       "       [ 119],\n",
       "       [ 112],\n",
       "       [  94],\n",
       "       [ 106],\n",
       "       [ 205],\n",
       "       [ 180],\n",
       "       [ 106],\n",
       "       [ 121],\n",
       "       [ 115],\n",
       "       [ 350],\n",
       "       [ 354],\n",
       "       [ 275],\n",
       "       [ 207],\n",
       "       [ 169],\n",
       "       [ 330],\n",
       "       [ 399],\n",
       "       [ 587],\n",
       "       [ 339],\n",
       "       [ 422],\n",
       "       [ 542],\n",
       "       [ 475],\n",
       "       [ 524],\n",
       "       [ 600],\n",
       "       [ 749],\n",
       "       [1202],\n",
       "       [ 679],\n",
       "       [1408],\n",
       "       [ 857],\n",
       "       [ 821],\n",
       "       [1196],\n",
       "       [1186],\n",
       "       [1168],\n",
       "       [ 964],\n",
       "       [ 698],\n",
       "       [8381],\n",
       "       [1084],\n",
       "       [1248],\n",
       "       [ 779],\n",
       "       [1225],\n",
       "       [ 996],\n",
       "       [1352],\n",
       "       [1466],\n",
       "       [2243],\n",
       "       [1924],\n",
       "       [1661],\n",
       "       [1664],\n",
       "       [1877],\n",
       "       [1562],\n",
       "       [1718],\n",
       "       [1550],\n",
       "       [1632],\n",
       "       [5071],\n",
       "       [1802],\n",
       "       [1315],\n",
       "       [1672],\n",
       "       [1935],\n",
       "       [1380],\n",
       "       [1591],\n",
       "       [1962],\n",
       "       [1925],\n",
       "       [4161],\n",
       "       [3661],\n",
       "       [2362],\n",
       "       [4430],\n",
       "       [2330],\n",
       "       [2385],\n",
       "       [1951],\n",
       "       [2243],\n",
       "       [8018],\n",
       "       [3515],\n",
       "       [3395],\n",
       "       [3658],\n",
       "       [3522],\n",
       "       [3296]], dtype=int64)"
      ]
     },
     "execution_count": 54,
     "metadata": {},
     "output_type": "execute_result"
    }
   ],
   "source": [
    "y"
   ]
  },
  {
   "cell_type": "markdown",
   "metadata": {},
   "source": [
    "### Recovered Analysis"
   ]
  },
  {
   "cell_type": "code",
   "execution_count": 55,
   "metadata": {},
   "outputs": [],
   "source": [
    "from sklearn.model_selection import train_test_split\n",
    "train_x,test_x,train_y,test_y=train_test_split(x,y,test_size=0.3)"
   ]
  },
  {
   "cell_type": "code",
   "execution_count": 56,
   "metadata": {},
   "outputs": [
    {
     "data": {
      "text/plain": [
       "((81, 1), (35, 1), (81, 1), (35, 1))"
      ]
     },
     "execution_count": 56,
     "metadata": {},
     "output_type": "execute_result"
    }
   ],
   "source": [
    "train_x.shape,test_x.shape,train_y.shape,test_y.shape"
   ]
  },
  {
   "cell_type": "code",
   "execution_count": 57,
   "metadata": {},
   "outputs": [],
   "source": [
    "from sklearn.linear_model import LinearRegression\n",
    "c=LinearRegression()"
   ]
  },
  {
   "cell_type": "code",
   "execution_count": 58,
   "metadata": {},
   "outputs": [
    {
     "data": {
      "text/plain": [
       "LinearRegression(copy_X=True, fit_intercept=True, n_jobs=None, normalize=False)"
      ]
     },
     "execution_count": 58,
     "metadata": {},
     "output_type": "execute_result"
    }
   ],
   "source": [
    "c.fit(train_x,train_y)"
   ]
  },
  {
   "cell_type": "code",
   "execution_count": 59,
   "metadata": {},
   "outputs": [
    {
     "data": {
      "text/plain": [
       "array([[2075.38152225],\n",
       "       [   5.86465273],\n",
       "       [1328.05598604],\n",
       "       [1414.2858556 ],\n",
       "       [2132.86810196],\n",
       "       [ 207.06768171],\n",
       "       [1845.43520342],\n",
       "       [ 896.90663822],\n",
       "       [2420.30100051],\n",
       "       [ -80.36521683],\n",
       "       [-166.5950864 ],\n",
       "       [-281.56824581],\n",
       "       [ 465.7572904 ],\n",
       "       [1902.92178313],\n",
       "       [-195.33837625],\n",
       "       [ 753.19018895],\n",
       "       [-224.08166611],\n",
       "       [2449.04429036],\n",
       "       [ 551.98715997],\n",
       "       [-597.74443421],\n",
       "       [-626.48772407],\n",
       "       [1040.62308749],\n",
       "       [-339.05482552],\n",
       "       [-310.31153567],\n",
       "       [ 781.9334788 ],\n",
       "       [ 322.04084113],\n",
       "       [-712.71759363],\n",
       "       [2391.55771065],\n",
       "       [1759.20533385],\n",
       "       [ 724.44689909],\n",
       "       [1960.40836284],\n",
       "       [ 666.96031938],\n",
       "       [-367.79811538],\n",
       "       [-252.82495596],\n",
       "       [ 695.70360924]])"
      ]
     },
     "execution_count": 59,
     "metadata": {},
     "output_type": "execute_result"
    }
   ],
   "source": [
    "c.predict(test_x)"
   ]
  },
  {
   "cell_type": "code",
   "execution_count": 61,
   "metadata": {},
   "outputs": [
    {
     "name": "stdout",
     "output_type": "stream",
     "text": [
      "                            OLS Regression Results                            \n",
      "==============================================================================\n",
      "Dep. Variable:              Recovered   R-squared:                       0.528\n",
      "Model:                            OLS   Adj. R-squared:                  0.524\n",
      "Method:                 Least Squares   F-statistic:                     127.5\n",
      "Date:                Tue, 22 Sep 2020   Prob (F-statistic):           2.65e-20\n",
      "Time:                        12:01:32   Log-Likelihood:                -967.17\n",
      "No. Observations:                 116   AIC:                             1938.\n",
      "Df Residuals:                     114   BIC:                             1944.\n",
      "Df Model:                           1                                         \n",
      "Covariance Type:            nonrobust                                         \n",
      "==============================================================================\n",
      "                 coef    std err          t      P>|t|      [0.025      0.975]\n",
      "------------------------------------------------------------------------------\n",
      "const       -846.0537    190.613     -4.439      0.000   -1223.657    -468.451\n",
      "Day           31.9334      2.828     11.292      0.000      26.331      37.535\n",
      "==============================================================================\n",
      "Omnibus:                      133.779   Durbin-Watson:                   1.761\n",
      "Prob(Omnibus):                  0.000   Jarque-Bera (JB):             2625.076\n",
      "Skew:                           4.106   Prob(JB):                         0.00\n",
      "Kurtosis:                      24.810   Cond. No.                         136.\n",
      "==============================================================================\n",
      "\n",
      "Warnings:\n",
      "[1] Standard Errors assume that the covariance matrix of the errors is correctly specified.\n"
     ]
    }
   ],
   "source": [
    "import statsmodels.api as s\n",
    "test=data['Day']\n",
    "case=data['Recovered']\n",
    "test1=s.add_constant(test)\n",
    "model=s.OLS(case,test1)\n",
    "result=model.fit()\n",
    "print(result.summary())"
   ]
  },
  {
   "cell_type": "code",
   "execution_count": 62,
   "metadata": {},
   "outputs": [
    {
     "data": {
      "text/plain": [
       "LinearRegression(copy_X=True, fit_intercept=True, n_jobs=None, normalize=False)"
      ]
     },
     "execution_count": 62,
     "metadata": {},
     "output_type": "execute_result"
    }
   ],
   "source": [
    "reg=LinearRegression()\n",
    "reg.fit(x,y)"
   ]
  },
  {
   "cell_type": "code",
   "execution_count": 63,
   "metadata": {},
   "outputs": [
    {
     "data": {
      "text/plain": [
       "(array([-846.05367316]), array([[31.93342559]]))"
      ]
     },
     "execution_count": 63,
     "metadata": {},
     "output_type": "execute_result"
    }
   ],
   "source": [
    "reg.intercept_,reg.coef_"
   ]
  },
  {
   "cell_type": "code",
   "execution_count": 64,
   "metadata": {},
   "outputs": [],
   "source": [
    "x=data_out.drop(columns=['Positive'])\n",
    "y=data_out['Deceased']"
   ]
  },
  {
   "cell_type": "code",
   "execution_count": 65,
   "metadata": {},
   "outputs": [],
   "source": [
    "x = data['Day'].values.reshape(-1,1)\n",
    "y = data[['Deceased']].values.reshape(-1,1)"
   ]
  },
  {
   "cell_type": "code",
   "execution_count": 66,
   "metadata": {},
   "outputs": [
    {
     "data": {
      "text/plain": [
       "array([[  1],\n",
       "       [  2],\n",
       "       [  3],\n",
       "       [  4],\n",
       "       [  5],\n",
       "       [  6],\n",
       "       [  7],\n",
       "       [  8],\n",
       "       [  9],\n",
       "       [ 10],\n",
       "       [ 11],\n",
       "       [ 12],\n",
       "       [ 13],\n",
       "       [ 14],\n",
       "       [ 15],\n",
       "       [ 16],\n",
       "       [ 17],\n",
       "       [ 18],\n",
       "       [ 19],\n",
       "       [ 20],\n",
       "       [ 21],\n",
       "       [ 22],\n",
       "       [ 23],\n",
       "       [ 24],\n",
       "       [ 25],\n",
       "       [ 26],\n",
       "       [ 27],\n",
       "       [ 28],\n",
       "       [ 29],\n",
       "       [ 30],\n",
       "       [ 31],\n",
       "       [ 32],\n",
       "       [ 33],\n",
       "       [ 34],\n",
       "       [ 35],\n",
       "       [ 36],\n",
       "       [ 37],\n",
       "       [ 38],\n",
       "       [ 39],\n",
       "       [ 40],\n",
       "       [ 41],\n",
       "       [ 42],\n",
       "       [ 43],\n",
       "       [ 44],\n",
       "       [ 45],\n",
       "       [ 46],\n",
       "       [ 47],\n",
       "       [ 48],\n",
       "       [ 49],\n",
       "       [ 50],\n",
       "       [ 51],\n",
       "       [ 52],\n",
       "       [ 53],\n",
       "       [ 54],\n",
       "       [ 55],\n",
       "       [ 56],\n",
       "       [ 57],\n",
       "       [ 58],\n",
       "       [ 59],\n",
       "       [ 60],\n",
       "       [ 61],\n",
       "       [ 62],\n",
       "       [ 63],\n",
       "       [ 64],\n",
       "       [ 65],\n",
       "       [ 66],\n",
       "       [ 67],\n",
       "       [ 68],\n",
       "       [ 69],\n",
       "       [ 70],\n",
       "       [ 71],\n",
       "       [ 72],\n",
       "       [ 73],\n",
       "       [ 74],\n",
       "       [ 75],\n",
       "       [ 76],\n",
       "       [ 77],\n",
       "       [ 78],\n",
       "       [ 79],\n",
       "       [ 80],\n",
       "       [ 81],\n",
       "       [ 82],\n",
       "       [ 83],\n",
       "       [ 84],\n",
       "       [ 85],\n",
       "       [ 86],\n",
       "       [ 87],\n",
       "       [ 88],\n",
       "       [ 89],\n",
       "       [ 90],\n",
       "       [ 91],\n",
       "       [ 92],\n",
       "       [ 93],\n",
       "       [ 94],\n",
       "       [ 95],\n",
       "       [ 96],\n",
       "       [ 97],\n",
       "       [ 98],\n",
       "       [ 99],\n",
       "       [100],\n",
       "       [101],\n",
       "       [102],\n",
       "       [103],\n",
       "       [104],\n",
       "       [105],\n",
       "       [106],\n",
       "       [107],\n",
       "       [108],\n",
       "       [109],\n",
       "       [110],\n",
       "       [111],\n",
       "       [112],\n",
       "       [113],\n",
       "       [114],\n",
       "       [115],\n",
       "       [116]], dtype=int64)"
      ]
     },
     "execution_count": 66,
     "metadata": {},
     "output_type": "execute_result"
    }
   ],
   "source": [
    "x"
   ]
  },
  {
   "cell_type": "code",
   "execution_count": 67,
   "metadata": {},
   "outputs": [
    {
     "data": {
      "text/plain": [
       "array([[   0],\n",
       "       [   0],\n",
       "       [   0],\n",
       "       [   1],\n",
       "       [   0],\n",
       "       [   0],\n",
       "       [   0],\n",
       "       [   0],\n",
       "       [   1],\n",
       "       [   0],\n",
       "       [   0],\n",
       "       [   0],\n",
       "       [   1],\n",
       "       [   1],\n",
       "       [   2],\n",
       "       [   1],\n",
       "       [   2],\n",
       "       [   1],\n",
       "       [   3],\n",
       "       [   8],\n",
       "       [   5],\n",
       "       [   6],\n",
       "       [  13],\n",
       "       [   7],\n",
       "       [  12],\n",
       "       [   8],\n",
       "       [  25],\n",
       "       [  12],\n",
       "       [  17],\n",
       "       [  22],\n",
       "       [  11],\n",
       "       [  18],\n",
       "       [   9],\n",
       "       [   7],\n",
       "       [   7],\n",
       "       [  10],\n",
       "       [  12],\n",
       "       [   9],\n",
       "       [  19],\n",
       "       [  18],\n",
       "       [  14],\n",
       "       [  18],\n",
       "       [  22],\n",
       "       [  19],\n",
       "       [  27],\n",
       "       [  31],\n",
       "       [  32],\n",
       "       [  27],\n",
       "       [  26],\n",
       "       [  36],\n",
       "       [  27],\n",
       "       [  35],\n",
       "       [  34],\n",
       "       [  34],\n",
       "       [  43],\n",
       "       [  37],\n",
       "       [  48],\n",
       "       [  53],\n",
       "       [  36],\n",
       "       [  53],\n",
       "       [  54],\n",
       "       [  44],\n",
       "       [  49],\n",
       "       [  67],\n",
       "       [  63],\n",
       "       [  51],\n",
       "       [  76],\n",
       "       [  65],\n",
       "       [  64],\n",
       "       [  63],\n",
       "       [  60],\n",
       "       [  58],\n",
       "       [  60],\n",
       "       [  97],\n",
       "       [ 105],\n",
       "       [  85],\n",
       "       [ 116],\n",
       "       [  99],\n",
       "       [  89],\n",
       "       [  76],\n",
       "       [ 103],\n",
       "       [ 122],\n",
       "       [ 123],\n",
       "       [ 139],\n",
       "       [ 120],\n",
       "       [  91],\n",
       "       [ 109],\n",
       "       [ 120],\n",
       "       [ 149],\n",
       "       [ 152],\n",
       "       [ 127],\n",
       "       [ 113],\n",
       "       [ 120],\n",
       "       [ 178],\n",
       "       [1409],\n",
       "       [ 114],\n",
       "       [ 100],\n",
       "       [ 142],\n",
       "       [  91],\n",
       "       [ 186],\n",
       "       [ 113],\n",
       "       [ 248],\n",
       "       [ 208],\n",
       "       [ 192],\n",
       "       [ 175],\n",
       "       [ 167],\n",
       "       [ 156],\n",
       "       [ 181],\n",
       "       [ 245],\n",
       "       [ 198],\n",
       "       [ 125],\n",
       "       [ 198],\n",
       "       [ 295],\n",
       "       [ 151],\n",
       "       [ 204],\n",
       "       [ 224]], dtype=int64)"
      ]
     },
     "execution_count": 67,
     "metadata": {},
     "output_type": "execute_result"
    }
   ],
   "source": [
    "y"
   ]
  },
  {
   "cell_type": "markdown",
   "metadata": {},
   "source": [
    "### Casualities Analysis"
   ]
  },
  {
   "cell_type": "code",
   "execution_count": 68,
   "metadata": {},
   "outputs": [],
   "source": [
    "from sklearn.model_selection import train_test_split\n",
    "train_x,test_x,train_y,test_y=train_test_split(x,y,test_size=0.3)"
   ]
  },
  {
   "cell_type": "code",
   "execution_count": 69,
   "metadata": {},
   "outputs": [
    {
     "data": {
      "text/plain": [
       "((81, 1), (35, 1), (81, 1), (35, 1))"
      ]
     },
     "execution_count": 69,
     "metadata": {},
     "output_type": "execute_result"
    }
   ],
   "source": [
    "train_x.shape,test_x.shape,train_y.shape,test_y.shape"
   ]
  },
  {
   "cell_type": "code",
   "execution_count": 70,
   "metadata": {},
   "outputs": [],
   "source": [
    "from sklearn.linear_model import LinearRegression\n",
    "c=LinearRegression()"
   ]
  },
  {
   "cell_type": "code",
   "execution_count": 71,
   "metadata": {},
   "outputs": [
    {
     "data": {
      "text/plain": [
       "LinearRegression(copy_X=True, fit_intercept=True, n_jobs=None, normalize=False)"
      ]
     },
     "execution_count": 71,
     "metadata": {},
     "output_type": "execute_result"
    }
   ],
   "source": [
    "c.fit(train_x,train_y)"
   ]
  },
  {
   "cell_type": "code",
   "execution_count": 72,
   "metadata": {},
   "outputs": [
    {
     "data": {
      "text/plain": [
       "array([[-2.54932675e+01],\n",
       "       [ 3.59095567e+00],\n",
       "       [ 1.81330673e+01],\n",
       "       [ 9.62969170e+01],\n",
       "       [-2.91287954e+01],\n",
       "       [ 1.44975394e+01],\n",
       "       [ 1.99508312e+01],\n",
       "       [ 5.63061102e+01],\n",
       "       [ 8.90258612e+01],\n",
       "       [ 1.30834432e+02],\n",
       "       [ 1.32652196e+02],\n",
       "       [ 1.59918655e+02],\n",
       "       [ 1.03567973e+02],\n",
       "       [ 9.04424752e+00],\n",
       "       [-4.45722239e-02],\n",
       "       [ 1.65371947e+02],\n",
       "       [-3.45820872e+01],\n",
       "       [ 1.50829835e+02],\n",
       "       [ 1.21745612e+02],\n",
       "       [-2.18577396e+01],\n",
       "       [ 7.44837496e+01],\n",
       "       [-1.27689199e+01],\n",
       "       [-7.31562802e+00],\n",
       "       [ 1.07203501e+02],\n",
       "       [ 9.99324449e+01],\n",
       "       [ 6.17594020e+01],\n",
       "       [ 3.63107067e+01],\n",
       "       [ 1.63554183e+02],\n",
       "       [ 1.38105488e+02],\n",
       "       [ 6.35771660e+01],\n",
       "       [ 4.90350544e+01],\n",
       "       [ 3.26751788e+01],\n",
       "       [ 2.72218870e+01],\n",
       "       [-1.45866838e+01],\n",
       "       [ 6.53949299e+01]])"
      ]
     },
     "execution_count": 72,
     "metadata": {},
     "output_type": "execute_result"
    }
   ],
   "source": [
    "c.predict(test_x)"
   ]
  },
  {
   "cell_type": "code",
   "execution_count": 74,
   "metadata": {},
   "outputs": [
    {
     "name": "stdout",
     "output_type": "stream",
     "text": [
      "                            OLS Regression Results                            \n",
      "==============================================================================\n",
      "Dep. Variable:               Deceased   R-squared:                       0.278\n",
      "Model:                            OLS   Adj. R-squared:                  0.272\n",
      "Method:                 Least Squares   F-statistic:                     43.99\n",
      "Date:                Tue, 22 Sep 2020   Prob (F-statistic):           1.16e-09\n",
      "Time:                        12:01:43   Log-Likelihood:                -720.26\n",
      "No. Observations:                 116   AIC:                             1445.\n",
      "Df Residuals:                     114   BIC:                             1450.\n",
      "Df Model:                           1                                         \n",
      "Covariance Type:            nonrobust                                         \n",
      "==============================================================================\n",
      "                 coef    std err          t      P>|t|      [0.025      0.975]\n",
      "------------------------------------------------------------------------------\n",
      "const        -50.8502     22.685     -2.242      0.027     -95.790      -5.910\n",
      "Day            2.2322      0.337      6.633      0.000       1.565       2.899\n",
      "==============================================================================\n",
      "Omnibus:                      237.672   Durbin-Watson:                   1.963\n",
      "Prob(Omnibus):                  0.000   Jarque-Bera (JB):            46990.356\n",
      "Skew:                           9.605   Prob(JB):                         0.00\n",
      "Kurtosis:                      99.711   Cond. No.                         136.\n",
      "==============================================================================\n",
      "\n",
      "Warnings:\n",
      "[1] Standard Errors assume that the covariance matrix of the errors is correctly specified.\n"
     ]
    }
   ],
   "source": [
    "import statsmodels.api as s\n",
    "test=data['Day']\n",
    "case=data['Deceased']\n",
    "test1=s.add_constant(test)\n",
    "model=s.OLS(case,test1)\n",
    "result=model.fit()\n",
    "print(result.summary())"
   ]
  },
  {
   "cell_type": "code",
   "execution_count": 75,
   "metadata": {},
   "outputs": [
    {
     "data": {
      "text/plain": [
       "LinearRegression(copy_X=True, fit_intercept=True, n_jobs=None, normalize=False)"
      ]
     },
     "execution_count": 75,
     "metadata": {},
     "output_type": "execute_result"
    }
   ],
   "source": [
    "reg=LinearRegression()\n",
    "reg.fit(x,y)"
   ]
  },
  {
   "cell_type": "code",
   "execution_count": 76,
   "metadata": {},
   "outputs": [
    {
     "data": {
      "text/plain": [
       "(array([-50.85022489]), array([[2.23218775]]))"
      ]
     },
     "execution_count": 76,
     "metadata": {},
     "output_type": "execute_result"
    }
   ],
   "source": [
    "reg.intercept_,reg.coef_"
   ]
  },
  {
   "cell_type": "code",
   "execution_count": null,
   "metadata": {},
   "outputs": [],
   "source": []
  }
 ],
 "metadata": {
  "kernelspec": {
   "display_name": "Python 3",
   "language": "python",
   "name": "python3"
  },
  "language_info": {
   "codemirror_mode": {
    "name": "ipython",
    "version": 3
   },
   "file_extension": ".py",
   "mimetype": "text/x-python",
   "name": "python",
   "nbconvert_exporter": "python",
   "pygments_lexer": "ipython3",
   "version": "3.7.4"
  }
 },
 "nbformat": 4,
 "nbformat_minor": 2
}
